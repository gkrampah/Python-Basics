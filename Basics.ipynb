{
 "cells": [
  {
   "cell_type": "code",
   "execution_count": 1,
   "id": "f677a905-eb68-410c-b9b6-dc8349516052",
   "metadata": {},
   "outputs": [
    {
     "ename": "SyntaxError",
     "evalue": "invalid syntax (3733832655.py, line 1)",
     "output_type": "error",
     "traceback": [
      "\u001b[0;36m  File \u001b[0;32m\"/tmp/ipykernel_119278/3733832655.py\"\u001b[0;36m, line \u001b[0;32m1\u001b[0m\n\u001b[0;31m    print(1 2)\u001b[0m\n\u001b[0m            ^\u001b[0m\n\u001b[0;31mSyntaxError\u001b[0m\u001b[0;31m:\u001b[0m invalid syntax\n"
     ]
    }
   ],
   "source": [
    "print(1 2)"
   ]
  },
  {
   "cell_type": "code",
   "execution_count": 2,
   "id": "99de6e11-0670-4a09-b58e-d2b31046e4b3",
   "metadata": {},
   "outputs": [
    {
     "ename": "NameError",
     "evalue": "name 'cat' is not defined",
     "output_type": "error",
     "traceback": [
      "\u001b[0;31m---------------------------------------------------------------------------\u001b[0m",
      "\u001b[0;31mNameError\u001b[0m                                 Traceback (most recent call last)",
      "\u001b[0;32m/tmp/ipykernel_119278/392782019.py\u001b[0m in \u001b[0;36m<module>\u001b[0;34m\u001b[0m\n\u001b[0;32m----> 1\u001b[0;31m \u001b[0mprint\u001b[0m\u001b[0;34m(\u001b[0m\u001b[0mcat\u001b[0m\u001b[0;34m)\u001b[0m\u001b[0;34m\u001b[0m\u001b[0;34m\u001b[0m\u001b[0m\n\u001b[0m",
      "\u001b[0;31mNameError\u001b[0m: name 'cat' is not defined"
     ]
    }
   ],
   "source": [
    "print(cat)"
   ]
  },
  {
   "cell_type": "markdown",
   "id": "6ce352ac-10a9-404f-ba50-4963cbd39085",
   "metadata": {},
   "source": [
    "# Variables, expressions and statements\n",
    "\n"
   ]
  },
  {
   "cell_type": "code",
   "execution_count": 3,
   "id": "56cb9ac6-0588-4630-85a7-c14629370316",
   "metadata": {},
   "outputs": [
    {
     "data": {
      "text/plain": [
       "str"
      ]
     },
     "execution_count": 3,
     "metadata": {},
     "output_type": "execute_result"
    }
   ],
   "source": [
    "type('hello')"
   ]
  },
  {
   "cell_type": "code",
   "execution_count": 4,
   "id": "95f9cd37-7018-4981-8ab3-fa22c70379f4",
   "metadata": {},
   "outputs": [
    {
     "data": {
      "text/plain": [
       "int"
      ]
     },
     "execution_count": 4,
     "metadata": {},
     "output_type": "execute_result"
    }
   ],
   "source": [
    "type(12)"
   ]
  },
  {
   "cell_type": "markdown",
   "id": "86645445-c50e-4ff8-b3a3-850836f40495",
   "metadata": {},
   "source": [
    "* Strings in Python can be enclosed in either single quotes (') or double quotes (\"), or three of each (''' or \"\"\") eg: "
   ]
  },
  {
   "cell_type": "code",
   "execution_count": 5,
   "id": "95cad93f-0d3c-4a9f-b3fd-b654e7bb2643",
   "metadata": {},
   "outputs": [
    {
     "data": {
      "text/plain": [
       "(str, str, str, str)"
      ]
     },
     "execution_count": 5,
     "metadata": {},
     "output_type": "execute_result"
    }
   ],
   "source": [
    "type('This is a string.'), type('This is a string.'), type('''and even this...'''), type(\"\"\"and this.\"\"\")"
   ]
  },
  {
   "cell_type": "markdown",
   "id": "a59e5c1c-e39f-4c9d-8bd9-71628bcc167a",
   "metadata": {},
   "source": [
    "* Double quoted strings can contain single quotes inside them, as in \"Bruce's beard\", and single quoted strings can have double quotes inside them, as in 'The knights who say \"Ni!\"'. \n",
    "\n",
    "* Strings enclosed with three occurrences of either quote symbol are called triple quoted strings. They can contain either single or double quotes:\n",
    "\n",
    "* Triple quoted strings can even span multiple lines:\n",
    "\n"
   ]
  },
  {
   "cell_type": "code",
   "execution_count": 6,
   "id": "9310f21f-17c4-411c-a7c5-efbc3a6ad490",
   "metadata": {},
   "outputs": [
    {
     "name": "stdout",
     "output_type": "stream",
     "text": [
      "\"Oh no\", she exclaimed, \"Ben's bike is broken!\"\n"
     ]
    }
   ],
   "source": [
    "print('''\"Oh no\", she exclaimed, \"Ben's bike is broken!\"''')"
   ]
  },
  {
   "cell_type": "code",
   "execution_count": 8,
   "id": "aa32e0c8-6225-4f6c-a9cf-c78b82f977c6",
   "metadata": {},
   "outputs": [
    {
     "name": "stdout",
     "output_type": "stream",
     "text": [
      "This message will\n",
      "span several\n",
      "lines.\n"
     ]
    }
   ],
   "source": [
    "message = \"\"\"This message will\n",
    "span several\n",
    "lines.\"\"\"\n",
    "print(message)"
   ]
  },
  {
   "cell_type": "code",
   "execution_count": 10,
   "id": "fc4838e0-6aa1-4e01-9662-80a74433262b",
   "metadata": {},
   "outputs": [
    {
     "ename": "SyntaxError",
     "evalue": "invalid syntax (1262518038.py, line 2)",
     "output_type": "error",
     "traceback": [
      "\u001b[0;36m  File \u001b[0;32m\"/tmp/ipykernel_55352/1262518038.py\"\u001b[0;36m, line \u001b[0;32m2\u001b[0m\n\u001b[0;31m    76trombones = \"big parade\"\u001b[0m\n\u001b[0m      ^\u001b[0m\n\u001b[0;31mSyntaxError\u001b[0m\u001b[0;31m:\u001b[0m invalid syntax\n"
     ]
    }
   ],
   "source": [
    "#Variable names and keywords\n",
    "76trombones = \"big parade\""
   ]
  },
  {
   "cell_type": "code",
   "execution_count": 11,
   "id": "afe52f8a-b058-4d09-b7e8-98b3b8b7d7f5",
   "metadata": {},
   "outputs": [
    {
     "ename": "FileNotFoundError",
     "evalue": "[Errno 2] No such file or directory: '$ = 1000000'",
     "output_type": "error",
     "traceback": [
      "\u001b[0;31m---------------------------------------------------------------------------\u001b[0m",
      "\u001b[0;31mFileNotFoundError\u001b[0m                         Traceback (most recent call last)",
      "\u001b[0;32m/tmp/ipykernel_55352/2979616221.py\u001b[0m in \u001b[0;36m<module>\u001b[0;34m\u001b[0m\n\u001b[0;32m----> 1\u001b[0;31m \u001b[0mget_ipython\u001b[0m\u001b[0;34m(\u001b[0m\u001b[0;34m)\u001b[0m\u001b[0;34m.\u001b[0m\u001b[0mrun_line_magic\u001b[0m\u001b[0;34m(\u001b[0m\u001b[0;34m'more'\u001b[0m\u001b[0;34m,\u001b[0m \u001b[0;34m'$ = 1000000'\u001b[0m\u001b[0;34m)\u001b[0m\u001b[0;34m\u001b[0m\u001b[0;34m\u001b[0m\u001b[0m\n\u001b[0m",
      "\u001b[0;32m~/anaconda3/lib/python3.9/site-packages/IPython/core/interactiveshell.py\u001b[0m in \u001b[0;36mrun_line_magic\u001b[0;34m(self, magic_name, line, _stack_depth)\u001b[0m\n\u001b[1;32m   2362\u001b[0m                 \u001b[0mkwargs\u001b[0m\u001b[0;34m[\u001b[0m\u001b[0;34m'local_ns'\u001b[0m\u001b[0;34m]\u001b[0m \u001b[0;34m=\u001b[0m \u001b[0mself\u001b[0m\u001b[0;34m.\u001b[0m\u001b[0mget_local_scope\u001b[0m\u001b[0;34m(\u001b[0m\u001b[0mstack_depth\u001b[0m\u001b[0;34m)\u001b[0m\u001b[0;34m\u001b[0m\u001b[0;34m\u001b[0m\u001b[0m\n\u001b[1;32m   2363\u001b[0m             \u001b[0;32mwith\u001b[0m \u001b[0mself\u001b[0m\u001b[0;34m.\u001b[0m\u001b[0mbuiltin_trap\u001b[0m\u001b[0;34m:\u001b[0m\u001b[0;34m\u001b[0m\u001b[0;34m\u001b[0m\u001b[0m\n\u001b[0;32m-> 2364\u001b[0;31m                 \u001b[0mresult\u001b[0m \u001b[0;34m=\u001b[0m \u001b[0mfn\u001b[0m\u001b[0;34m(\u001b[0m\u001b[0;34m*\u001b[0m\u001b[0margs\u001b[0m\u001b[0;34m,\u001b[0m \u001b[0;34m**\u001b[0m\u001b[0mkwargs\u001b[0m\u001b[0;34m)\u001b[0m\u001b[0;34m\u001b[0m\u001b[0;34m\u001b[0m\u001b[0m\n\u001b[0m\u001b[1;32m   2365\u001b[0m             \u001b[0;32mreturn\u001b[0m \u001b[0mresult\u001b[0m\u001b[0;34m\u001b[0m\u001b[0;34m\u001b[0m\u001b[0m\n\u001b[1;32m   2366\u001b[0m \u001b[0;34m\u001b[0m\u001b[0m\n",
      "\u001b[0;32m~/anaconda3/lib/python3.9/site-packages/decorator.py\u001b[0m in \u001b[0;36mfun\u001b[0;34m(*args, **kw)\u001b[0m\n\u001b[1;32m    230\u001b[0m             \u001b[0;32mif\u001b[0m \u001b[0;32mnot\u001b[0m \u001b[0mkwsyntax\u001b[0m\u001b[0;34m:\u001b[0m\u001b[0;34m\u001b[0m\u001b[0;34m\u001b[0m\u001b[0m\n\u001b[1;32m    231\u001b[0m                 \u001b[0margs\u001b[0m\u001b[0;34m,\u001b[0m \u001b[0mkw\u001b[0m \u001b[0;34m=\u001b[0m \u001b[0mfix\u001b[0m\u001b[0;34m(\u001b[0m\u001b[0margs\u001b[0m\u001b[0;34m,\u001b[0m \u001b[0mkw\u001b[0m\u001b[0;34m,\u001b[0m \u001b[0msig\u001b[0m\u001b[0;34m)\u001b[0m\u001b[0;34m\u001b[0m\u001b[0;34m\u001b[0m\u001b[0m\n\u001b[0;32m--> 232\u001b[0;31m             \u001b[0;32mreturn\u001b[0m \u001b[0mcaller\u001b[0m\u001b[0;34m(\u001b[0m\u001b[0mfunc\u001b[0m\u001b[0;34m,\u001b[0m \u001b[0;34m*\u001b[0m\u001b[0;34m(\u001b[0m\u001b[0mextras\u001b[0m \u001b[0;34m+\u001b[0m \u001b[0margs\u001b[0m\u001b[0;34m)\u001b[0m\u001b[0;34m,\u001b[0m \u001b[0;34m**\u001b[0m\u001b[0mkw\u001b[0m\u001b[0;34m)\u001b[0m\u001b[0;34m\u001b[0m\u001b[0;34m\u001b[0m\u001b[0m\n\u001b[0m\u001b[1;32m    233\u001b[0m     \u001b[0mfun\u001b[0m\u001b[0;34m.\u001b[0m\u001b[0m__name__\u001b[0m \u001b[0;34m=\u001b[0m \u001b[0mfunc\u001b[0m\u001b[0;34m.\u001b[0m\u001b[0m__name__\u001b[0m\u001b[0;34m\u001b[0m\u001b[0;34m\u001b[0m\u001b[0m\n\u001b[1;32m    234\u001b[0m     \u001b[0mfun\u001b[0m\u001b[0;34m.\u001b[0m\u001b[0m__doc__\u001b[0m \u001b[0;34m=\u001b[0m \u001b[0mfunc\u001b[0m\u001b[0;34m.\u001b[0m\u001b[0m__doc__\u001b[0m\u001b[0;34m\u001b[0m\u001b[0;34m\u001b[0m\u001b[0m\n",
      "\u001b[0;32m~/anaconda3/lib/python3.9/site-packages/IPython/core/magic.py\u001b[0m in \u001b[0;36m<lambda>\u001b[0;34m(f, *a, **k)\u001b[0m\n\u001b[1;32m    185\u001b[0m     \u001b[0;31m# but it's overkill for just that one bit of state.\u001b[0m\u001b[0;34m\u001b[0m\u001b[0;34m\u001b[0m\u001b[0m\n\u001b[1;32m    186\u001b[0m     \u001b[0;32mdef\u001b[0m \u001b[0mmagic_deco\u001b[0m\u001b[0;34m(\u001b[0m\u001b[0marg\u001b[0m\u001b[0;34m)\u001b[0m\u001b[0;34m:\u001b[0m\u001b[0;34m\u001b[0m\u001b[0;34m\u001b[0m\u001b[0m\n\u001b[0;32m--> 187\u001b[0;31m         \u001b[0mcall\u001b[0m \u001b[0;34m=\u001b[0m \u001b[0;32mlambda\u001b[0m \u001b[0mf\u001b[0m\u001b[0;34m,\u001b[0m \u001b[0;34m*\u001b[0m\u001b[0ma\u001b[0m\u001b[0;34m,\u001b[0m \u001b[0;34m**\u001b[0m\u001b[0mk\u001b[0m\u001b[0;34m:\u001b[0m \u001b[0mf\u001b[0m\u001b[0;34m(\u001b[0m\u001b[0;34m*\u001b[0m\u001b[0ma\u001b[0m\u001b[0;34m,\u001b[0m \u001b[0;34m**\u001b[0m\u001b[0mk\u001b[0m\u001b[0;34m)\u001b[0m\u001b[0;34m\u001b[0m\u001b[0;34m\u001b[0m\u001b[0m\n\u001b[0m\u001b[1;32m    188\u001b[0m \u001b[0;34m\u001b[0m\u001b[0m\n\u001b[1;32m    189\u001b[0m         \u001b[0;32mif\u001b[0m \u001b[0mcallable\u001b[0m\u001b[0;34m(\u001b[0m\u001b[0marg\u001b[0m\u001b[0;34m)\u001b[0m\u001b[0;34m:\u001b[0m\u001b[0;34m\u001b[0m\u001b[0;34m\u001b[0m\u001b[0m\n",
      "\u001b[0;32m~/anaconda3/lib/python3.9/site-packages/ipykernel/zmqshell.py\u001b[0m in \u001b[0;36mless\u001b[0;34m(self, arg_s)\u001b[0m\n\u001b[1;32m    327\u001b[0m             \u001b[0mcont\u001b[0m \u001b[0;34m=\u001b[0m \u001b[0mself\u001b[0m\u001b[0;34m.\u001b[0m\u001b[0mshell\u001b[0m\u001b[0;34m.\u001b[0m\u001b[0mpycolorize\u001b[0m\u001b[0;34m(\u001b[0m\u001b[0mopenpy\u001b[0m\u001b[0;34m.\u001b[0m\u001b[0mread_py_file\u001b[0m\u001b[0;34m(\u001b[0m\u001b[0marg_s\u001b[0m\u001b[0;34m,\u001b[0m \u001b[0mskip_encoding_cookie\u001b[0m\u001b[0;34m=\u001b[0m\u001b[0;32mFalse\u001b[0m\u001b[0;34m)\u001b[0m\u001b[0;34m)\u001b[0m\u001b[0;34m\u001b[0m\u001b[0;34m\u001b[0m\u001b[0m\n\u001b[1;32m    328\u001b[0m         \u001b[0;32melse\u001b[0m\u001b[0;34m:\u001b[0m\u001b[0;34m\u001b[0m\u001b[0;34m\u001b[0m\u001b[0m\n\u001b[0;32m--> 329\u001b[0;31m             \u001b[0mcont\u001b[0m \u001b[0;34m=\u001b[0m \u001b[0mopen\u001b[0m\u001b[0;34m(\u001b[0m\u001b[0marg_s\u001b[0m\u001b[0;34m)\u001b[0m\u001b[0;34m.\u001b[0m\u001b[0mread\u001b[0m\u001b[0;34m(\u001b[0m\u001b[0;34m)\u001b[0m\u001b[0;34m\u001b[0m\u001b[0;34m\u001b[0m\u001b[0m\n\u001b[0m\u001b[1;32m    330\u001b[0m         \u001b[0mpage\u001b[0m\u001b[0;34m.\u001b[0m\u001b[0mpage\u001b[0m\u001b[0;34m(\u001b[0m\u001b[0mcont\u001b[0m\u001b[0;34m)\u001b[0m\u001b[0;34m\u001b[0m\u001b[0;34m\u001b[0m\u001b[0m\n\u001b[1;32m    331\u001b[0m \u001b[0;34m\u001b[0m\u001b[0m\n",
      "\u001b[0;31mFileNotFoundError\u001b[0m: [Errno 2] No such file or directory: '$ = 1000000'"
     ]
    }
   ],
   "source": [
    "more$ = 1000000"
   ]
  },
  {
   "cell_type": "code",
   "execution_count": 12,
   "id": "7bb725ac-d3cd-49f7-a40e-7cb33f914dfe",
   "metadata": {},
   "outputs": [
    {
     "ename": "SyntaxError",
     "evalue": "invalid syntax (50674096.py, line 1)",
     "output_type": "error",
     "traceback": [
      "\u001b[0;36m  File \u001b[0;32m\"/tmp/ipykernel_55352/50674096.py\"\u001b[0;36m, line \u001b[0;32m1\u001b[0m\n\u001b[0;31m    class = \"Computer Science 101\"\u001b[0m\n\u001b[0m          ^\u001b[0m\n\u001b[0;31mSyntaxError\u001b[0m\u001b[0;31m:\u001b[0m invalid syntax\n"
     ]
    }
   ],
   "source": [
    "class = \"Computer Science 101\""
   ]
  },
  {
   "cell_type": "code",
   "execution_count": 13,
   "id": "d6d6ab47-a0e7-4f93-95e2-30d9d454ffa8",
   "metadata": {},
   "outputs": [
    {
     "name": "stdout",
     "output_type": "stream",
     "text": [
      "Please enter your name:  Godwin\n"
     ]
    }
   ],
   "source": [
    "n = input(\"Please enter your name: \")"
   ]
  },
  {
   "cell_type": "code",
   "execution_count": 15,
   "id": "eb8e5c45-86f3-4e0c-ba22-499a2e749af9",
   "metadata": {},
   "outputs": [
    {
     "data": {
      "text/plain": [
       "'Godwin'"
      ]
     },
     "execution_count": 15,
     "metadata": {},
     "output_type": "execute_result"
    }
   ],
   "source": [
    "n"
   ]
  },
  {
   "cell_type": "code",
   "execution_count": 25,
   "id": "ff1c5163-3ab9-45ae-8a22-322f9aa5b38e",
   "metadata": {},
   "outputs": [],
   "source": [
    "import turtle             # Allows us to use turtles\n",
    "wn = turtle.Screen()      # Creates a playground for turtles\n",
    "wn.bgcolor(\"lightgreen\")      # Set the window background color\n",
    "wn.title(\"Hello, Tess!\")      # Set the window title\n",
    "    \n",
    "alex = turtle.Turtle()    # Create a turtle, assign to alex\n",
    "alex.color(\"blue\")            # Tell tess to change her color\n",
    "alex.pensize(3)               # Tell tess to set her pen width\n",
    "\n",
    "alex.forward(50)          # Tell alex to move forward by 50 units\n",
    "alex.left(90)             # Tell alex to turn by 90 degrees\n",
    "alex.forward(30)          # Complete the second side of a rectangle\n",
    "\n",
    "wn.mainloop()   "
   ]
  },
  {
   "cell_type": "code",
   "execution_count": 28,
   "id": "523ca33f-cb36-4d75-ad29-228a4db481c3",
   "metadata": {},
   "outputs": [
    {
     "name": "stdout",
     "output_type": "stream",
     "text": [
      "The negative number  -11  is not valid here.\n",
      "I've decided to use the number 42 instead.\n",
      "The square root of  42 is 6.48074069840786\n"
     ]
    }
   ],
   "source": [
    "import numpy as np\n",
    "x = -11\n",
    "if x < 0:\n",
    "    print(\"The negative number \",  x, \" is not valid here.\")\n",
    "    x = 42\n",
    "    print(\"I've decided to use the number 42 instead.\")\n",
    "\n",
    "print(\"The square root of \", x, \"is\", np.sqrt(x))"
   ]
  },
  {
   "cell_type": "code",
   "execution_count": 29,
   "id": "af88587c-cc79-4507-a155-e32a0a62cc88",
   "metadata": {},
   "outputs": [
    {
     "data": {
      "text/plain": [
       "(3, 3)"
      ]
     },
     "execution_count": 29,
     "metadata": {},
     "output_type": "execute_result"
    }
   ],
   "source": [
    "def absolute_value(x):\n",
    "    if x < 0:\n",
    "        return -x\n",
    "    else:\n",
    "        return x\n",
    "    \n",
    "absolute_value(-3), absolute_value(3)"
   ]
  },
  {
   "cell_type": "code",
   "execution_count": 10,
   "id": "593e1d2c-da9a-48b5-a938-0623ac6826f8",
   "metadata": {},
   "outputs": [
    {
     "data": {
      "text/plain": [
       "(3, 3)"
      ]
     },
     "execution_count": 10,
     "metadata": {},
     "output_type": "execute_result"
    }
   ],
   "source": [
    "def absolute_value(x):\n",
    "    if x < 0:\n",
    "        return -x\n",
    "    return x\n",
    "\n",
    "absolute_value(-3), absolute_value(3)"
   ]
  },
  {
   "cell_type": "code",
   "execution_count": 31,
   "id": "b62d4f1f-7de9-4d73-9b5e-50b1e15208d3",
   "metadata": {},
   "outputs": [
    {
     "data": {
      "text/plain": [
       "'is'"
      ]
     },
     "execution_count": 31,
     "metadata": {},
     "output_type": "execute_result"
    }
   ],
   "source": [
    "def find_first_2_letter_word(xs):\n",
    "    for wd in xs:\n",
    "        if len(wd) == 2:\n",
    "            return wd\n",
    "    return \"\"\n",
    "    \n",
    "find_first_2_letter_word([\"This\",  \"is\", \"a\", \"dead\", \"parrot\"])"
   ]
  },
  {
   "cell_type": "code",
   "execution_count": 5,
   "id": "5861b0d5",
   "metadata": {},
   "outputs": [
    {
     "name": "stdout",
     "output_type": "stream",
     "text": [
      "hello world\n"
     ]
    }
   ],
   "source": [
    "print('hello world')\n"
   ]
  },
  {
   "cell_type": "code",
   "execution_count": 7,
   "id": "262f8b7d",
   "metadata": {},
   "outputs": [
    {
     "data": {
      "text/plain": [
       "(False, False)"
      ]
     },
     "execution_count": 7,
     "metadata": {},
     "output_type": "execute_result"
    }
   ],
   "source": [
    "def is_divisible(x, y):\n",
    "    \"\"\" Test if x is exactly divisible by y \"\"\"\n",
    "    if x % y == 0:\n",
    "        return True\n",
    "    else:\n",
    "        return False\n",
    "\n",
    "def is_divisible2(x, y):\n",
    "    return x % y == 0\n",
    "\n",
    "is_divisible(6, 4), is_divisible2(6, 4)"
   ]
  },
  {
   "cell_type": "code",
   "execution_count": 17,
   "id": "eeb9b2a4-54db-4573-8b1a-2559b962c95a",
   "metadata": {},
   "outputs": [],
   "source": [
    "import sys\n",
    "\n",
    "def absolute_value2(x): #correct\n",
    "    if x < 0:\n",
    "        return -x\n",
    "    return x\n",
    "\n",
    "\n",
    "def absolute_value(n):   # Buggy version\n",
    "    \"\"\" Compute the absolute value of n \"\"\"\n",
    "    if n < 0:\n",
    "        return 1\n",
    "    elif n > 0:\n",
    "        return n\n",
    "    \n",
    "def test(did_pass):\n",
    "    \"\"\"  Print the result of a test.  \"\"\"\n",
    "    linenum = sys._getframe(1).f_lineno   # Get the caller's line number.\n",
    "    if did_pass:\n",
    "        msg = \"Test at line {0} ok.\".format(linenum)\n",
    "    else:\n",
    "        msg = (\"Test at line {0} FAILED.\".format(linenum))\n",
    "    print(msg)"
   ]
  },
  {
   "cell_type": "code",
   "execution_count": 18,
   "id": "6052016f",
   "metadata": {},
   "outputs": [
    {
     "name": "stdout",
     "output_type": "stream",
     "text": [
      "Test at line 4 ok.\n",
      "Test at line 5 FAILED.\n",
      "Test at line 6 FAILED.\n",
      "Test at line 7 ok.\n",
      "Test at line 8 FAILED.\n"
     ]
    }
   ],
   "source": [
    "def test_suite():\n",
    "    \"\"\" Run the suite of tests for code in this module (this file).\n",
    "    \"\"\"\n",
    "    test(absolute_value(17) == 17)\n",
    "    test(absolute_value(-17) == 17)\n",
    "    test(absolute_value(0) == 0)\n",
    "    test(absolute_value(3.14) == 3.14)\n",
    "    test(absolute_value(-3.14) == 3.14)\n",
    "\n",
    "test_suite()        # Here is the call to run the tests"
   ]
  },
  {
   "cell_type": "code",
   "execution_count": 19,
   "id": "ef4336aa",
   "metadata": {},
   "outputs": [
    {
     "name": "stdout",
     "output_type": "stream",
     "text": [
      "3 5\n"
     ]
    }
   ],
   "source": [
    "a = 5\n",
    "b = a    # After executing this line, a and b are now equal\n",
    "a = 3    # After executing this line, a and b are no longer equal\n",
    "print(a,b)"
   ]
  },
  {
   "cell_type": "code",
   "execution_count": 20,
   "id": "501e6f66",
   "metadata": {},
   "outputs": [
    {
     "name": "stdout",
     "output_type": "stream",
     "text": [
      "Test at line 11 ok.\n",
      "Test at line 12 ok.\n"
     ]
    }
   ],
   "source": [
    "def sum_to(n):\n",
    "    \"\"\" Return the sum of 1+2+3 ... n \"\"\"\n",
    "    ss  = 0\n",
    "    v = 1\n",
    "    while v <= n:\n",
    "        ss = ss + v\n",
    "        v = v + 1\n",
    "    return ss\n",
    "\n",
    "# For your test suite\n",
    "test(sum_to(4) == 10)\n",
    "test(sum_to(1000) == 500500)"
   ]
  },
  {
   "cell_type": "code",
   "execution_count": 21,
   "id": "f47ad89d",
   "metadata": {},
   "outputs": [
    {
     "name": "stdout",
     "output_type": "stream",
     "text": [
      "Test at line 8 ok.\n",
      "Test at line 9 ok.\n"
     ]
    }
   ],
   "source": [
    "def sum_to(n):\n",
    "    \"\"\" Return the sum of 1+2+3 ... n \"\"\"\n",
    "    ss  = 0\n",
    "    for v in range(n+1):\n",
    "        ss = ss + v\n",
    "    return ss\n",
    "# For your test suite\n",
    "test(sum_to(4) == 10)\n",
    "test(sum_to(1000) == 500500)"
   ]
  },
  {
   "cell_type": "code",
   "execution_count": 22,
   "id": "470604d5",
   "metadata": {},
   "outputs": [
    {
     "name": "stdout",
     "output_type": "stream",
     "text": [
      "3, 10, 5, 16, 8, 4, 2, 1.\n"
     ]
    }
   ],
   "source": [
    "#The Collatz 3n + 1 sequence\n",
    "def seq3np1(n):\n",
    "    \"\"\" Print the 3n+1 sequence from n,\n",
    "        terminating when it reaches 1.\n",
    "    \"\"\"\n",
    "    while n != 1:\n",
    "        print(n, end=\", \")\n",
    "        if n % 2 == 0:        # n is even\n",
    "            n = n // 2\n",
    "        else:                 # n is odd\n",
    "            n = n * 3 + 1\n",
    "    print(n, end=\".\\n\")\n",
    "\n",
    "seq3np1(3)"
   ]
  },
  {
   "cell_type": "code",
   "execution_count": 23,
   "id": "a8b9a434",
   "metadata": {},
   "outputs": [
    {
     "name": "stdout",
     "output_type": "stream",
     "text": [
      "12\n",
      "16\n",
      "done\n"
     ]
    }
   ],
   "source": [
    "for i in [12, 16, 17, 24, 29]:\n",
    "    if i % 2 == 1:  # If the number is odd\n",
    "       break        #  ... immediately exit the loop\n",
    "    print(i)\n",
    "print(\"done\")"
   ]
  },
  {
   "cell_type": "code",
   "execution_count": 34,
   "id": "44ff6ca7",
   "metadata": {},
   "outputs": [
    {
     "name": "stdout",
     "output_type": "stream",
     "text": [
      "12\n",
      "16\n",
      "24\n",
      "30\n",
      "done\n"
     ]
    }
   ],
   "source": [
    "for i in [12, 16, 17, 24, 29, 30]:\n",
    "    if i % 2 == 1:      # If the number is odd\n",
    "       continue         # Don't process it\n",
    "    print(i)\n",
    "print(\"done\")"
   ]
  },
  {
   "cell_type": "code",
   "execution_count": 24,
   "id": "8c3ebfaf",
   "metadata": {},
   "outputs": [
    {
     "name": "stdout",
     "output_type": "stream",
     "text": [
      "Brad Pitt\n",
      "Jack Nicholson\n"
     ]
    }
   ],
   "source": [
    "#paired data\n",
    "celebs = [(\"Brad Pitt\", 1963), (\"Jack Nicholson\", 1937), (\"Justin Bieber\", 1994)]\n",
    "for (nm, yr) in celebs:\n",
    "   if yr < 1980:\n",
    "        print(nm)"
   ]
  },
  {
   "cell_type": "code",
   "execution_count": 33,
   "id": "c3f900e7",
   "metadata": {},
   "outputs": [
    {
     "name": "stdout",
     "output_type": "stream",
     "text": [
      "John takes 2 courses\n",
      "Vusi takes 3 courses\n",
      "Jess takes 4 courses\n",
      "Sarah takes 4 courses\n",
      "Zuki takes 5 courses\n",
      "John takes\n",
      "Vusi takes\n",
      "Jess takes\n",
      "Sarah takes\n",
      "Zuki takes\n"
     ]
    }
   ],
   "source": [
    "students = [\n",
    "    (\"John\", [\"CompSci\", \"Physics\"]),\n",
    "    (\"Vusi\", [\"Maths\", \"CompSci\", \"Stats\"]),\n",
    "    (\"Jess\", [\"CompSci\", \"Accounting\", \"Economics\", \"Management\"]),\n",
    "    (\"Sarah\", [\"InfSys\", \"Accounting\", \"Economics\", \"CommLaw\"]),\n",
    "    (\"Zuki\", [\"Sociology\", \"Economics\", \"Law\", \"Stats\", \"Music\"])]\n",
    "\n",
    "# Print all students with a count of their courses.\n",
    "for name, subjects in students:\n",
    "    print(name, \"takes\", len(subjects), \"courses\")\n",
    "    \n",
    "\n",
    "for name, _ in students:\n",
    "    print(name, \"takes\")\n",
    "\n"
   ]
  },
  {
   "cell_type": "code",
   "execution_count": 35,
   "id": "714b1961",
   "metadata": {},
   "outputs": [
    {
     "name": "stdout",
     "output_type": "stream",
     "text": [
      "5.000000000016778\n",
      "7.0\n",
      "9.000000000004924\n"
     ]
    }
   ],
   "source": [
    "def sqrt(n):\n",
    "    approx = n/2.0     # Start with some or other guess at the answer\n",
    "    while True:\n",
    "        better = (approx + n/approx)/2.0\n",
    "        if abs(approx - better) < 0.001:\n",
    "            return better\n",
    "        approx = better\n",
    "\n",
    "# Test cases\n",
    "print(sqrt(25.0))\n",
    "print(sqrt(49.0))\n",
    "print(sqrt(81.0))"
   ]
  },
  {
   "cell_type": "markdown",
   "id": "75c9f4b4",
   "metadata": {},
   "source": [
    "## Some useful tips "
   ]
  },
  {
   "cell_type": "code",
   "execution_count": 7,
   "id": "3510a093",
   "metadata": {},
   "outputs": [
    {
     "name": "stdout",
     "output_type": "stream",
     "text": [
      "[23, 17, 90, 3567]\n"
     ]
    }
   ],
   "source": [
    "# Walrus operator, Remember that the walrus operator returns the value that's assigned. So if x := y will assign y to x and also check the truthiness of y.\n",
    "#In While Loops:\n",
    "data = []\n",
    "\n",
    "while (entry := input(\"Enter a number (or 'quit' to stop): \")) != \"quit\":\n",
    "    data.append(int(entry))\n",
    "\n",
    "print(data)"
   ]
  },
  {
   "cell_type": "code",
   "execution_count": 5,
   "id": "bc6dd760",
   "metadata": {},
   "outputs": [
    {
     "name": "stdout",
     "output_type": "stream",
     "text": [
      "[(5, 25), (6, 36), (7, 49), (8, 64), (9, 81)]\n"
     ]
    }
   ],
   "source": [
    "#In List Comprehensions:\n",
    "numbers = [1, 2, 3, 4, 5, 6, 7, 8, 9]\n",
    "squares = [(n, squared) for n in numbers if (squared := n**2) > 20]\n",
    "print(squares)"
   ]
  },
  {
   "cell_type": "code",
   "execution_count": 4,
   "id": "2a6b06ba",
   "metadata": {},
   "outputs": [
    {
     "name": "stdout",
     "output_type": "stream",
     "text": [
      "Found value: value\n"
     ]
    }
   ],
   "source": [
    "#In If Statements:\n",
    "some_dict = {\"key\": \"value\"}\n",
    "\n",
    "if (value := some_dict.get(\"key\")) is not None:\n",
    "    print(f\"Found value: {value}\")"
   ]
  },
  {
   "cell_type": "code",
   "execution_count": 10,
   "id": "818cdc30",
   "metadata": {},
   "outputs": [
    {
     "name": "stdout",
     "output_type": "stream",
     "text": [
      "{'c': (30, 60), 'd': (40, 80)}\n"
     ]
    }
   ],
   "source": [
    "data = {\n",
    "    \"a\": 10,\n",
    "    \"b\": 20,\n",
    "    \"c\": 30,\n",
    "    \"d\": 40\n",
    "}\n",
    "\n",
    "processed_data = {k: (v, transformed) for k, v in data.items() if (transformed:=v*2) > 40}\n",
    "print(processed_data)"
   ]
  },
  {
   "cell_type": "code",
   "execution_count": 2,
   "id": "8e4fb580",
   "metadata": {},
   "outputs": [
    {
     "data": {
      "text/plain": [
       "{'Italy': 'Rome', 'France': 'Paris', 'US': 'Washington DC'}"
      ]
     },
     "execution_count": 2,
     "metadata": {},
     "output_type": "execute_result"
    }
   ],
   "source": [
    "L = [('Italy', 'Rome'), ('France', 'Paris'), ('US', 'Washington DC')]\n",
    "L2 = dict(L)\n",
    "L2"
   ]
  },
  {
   "cell_type": "code",
   "execution_count": null,
   "id": "7a2fc285",
   "metadata": {},
   "outputs": [],
   "source": []
  },
  {
   "cell_type": "code",
   "execution_count": null,
   "id": "48652b6e",
   "metadata": {},
   "outputs": [],
   "source": []
  },
  {
   "cell_type": "code",
   "execution_count": null,
   "id": "c11bd613",
   "metadata": {},
   "outputs": [],
   "source": []
  },
  {
   "cell_type": "markdown",
   "id": "58925a5e",
   "metadata": {},
   "source": [
    "## Memory management"
   ]
  },
  {
   "cell_type": "code",
   "execution_count": 1,
   "id": "43fd3457",
   "metadata": {},
   "outputs": [
    {
     "name": "stdout",
     "output_type": "stream",
     "text": [
      "True\n"
     ]
    }
   ],
   "source": [
    "x = 10\n",
    "\n",
    "y = x\n",
    "print(id(x)==id(y))"
   ]
  },
  {
   "cell_type": "code",
   "execution_count": 2,
   "id": "55398da0",
   "metadata": {},
   "outputs": [
    {
     "name": "stdout",
     "output_type": "stream",
     "text": [
      "False\n"
     ]
    }
   ],
   "source": [
    "x +=1\n",
    "print(id(x)==id(y))"
   ]
  },
  {
   "cell_type": "code",
   "execution_count": 3,
   "id": "e14e4e71",
   "metadata": {},
   "outputs": [
    {
     "name": "stdout",
     "output_type": "stream",
     "text": [
      "True\n"
     ]
    }
   ],
   "source": [
    "z = 10\n",
    "print(id(z)==id(y))"
   ]
  },
  {
   "cell_type": "code",
   "execution_count": 7,
   "id": "6cc28724",
   "metadata": {},
   "outputs": [
    {
     "ename": "AttributeError",
     "evalue": "'Point' object has no attribute 'name'",
     "output_type": "error",
     "traceback": [
      "\u001b[0;31m---------------------------------------------------------------------------\u001b[0m",
      "\u001b[0;31mAttributeError\u001b[0m                            Traceback (most recent call last)",
      "\u001b[0;32m/tmp/ipykernel_34438/3340626818.py\u001b[0m in \u001b[0;36m<module>\u001b[0;34m\u001b[0m\n\u001b[1;32m      5\u001b[0m \u001b[0mpoint\u001b[0m\u001b[0;34m.\u001b[0m\u001b[0mx\u001b[0m \u001b[0;34m=\u001b[0m \u001b[0;36m5\u001b[0m\u001b[0;34m\u001b[0m\u001b[0;34m\u001b[0m\u001b[0m\n\u001b[1;32m      6\u001b[0m \u001b[0mpoint\u001b[0m\u001b[0;34m.\u001b[0m\u001b[0my\u001b[0m \u001b[0;34m=\u001b[0m \u001b[0;36m7\u001b[0m\u001b[0;34m\u001b[0m\u001b[0;34m\u001b[0m\u001b[0m\n\u001b[0;32m----> 7\u001b[0;31m \u001b[0mpoint\u001b[0m\u001b[0;34m.\u001b[0m\u001b[0mname\u001b[0m \u001b[0;34m=\u001b[0m \u001b[0;34m'fred'\u001b[0m\u001b[0;34m\u001b[0m\u001b[0;34m\u001b[0m\u001b[0m\n\u001b[0m\u001b[1;32m      8\u001b[0m \u001b[0;34m\u001b[0m\u001b[0m\n",
      "\u001b[0;31mAttributeError\u001b[0m: 'Point' object has no attribute 'name'"
     ]
    }
   ],
   "source": [
    "class Point:\n",
    "    __slots__ =('x', 'y')\n",
    "\n",
    "point = Point()\n",
    "point.x = 5\n",
    "point.y = 7\n",
    "point.name = 'fred'\n",
    "\n"
   ]
  },
  {
   "cell_type": "markdown",
   "id": "61a186e6",
   "metadata": {},
   "source": [
    "## Generator expressions and list comprehensions\n",
    "\n",
    "list comprehensions aren’t useful if you’re working with iterators that return an infinite stream or a very large amount of data. Generator expressions are preferable in these situations.\n",
    "\n",
    "\n"
   ]
  },
  {
   "cell_type": "code",
   "execution_count": 3,
   "id": "d72a5d13",
   "metadata": {},
   "outputs": [
    {
     "data": {
      "text/plain": [
       "(<generator object <genexpr> at 0x7f4708d670b0>, ['line 1', 'line 2', '', ''])"
      ]
     },
     "execution_count": 3,
     "metadata": {},
     "output_type": "execute_result"
    }
   ],
   "source": [
    "line_list = ['  line 1\\n', 'line 2  \\n', ' \\n', '']\n",
    "\n",
    "# Generator expression -- returns iterator\n",
    "stripped_iter = (line.strip() for line in line_list)\n",
    "\n",
    "# List comprehension -- returns list\n",
    "stripped_list = [line.strip() for line in line_list]\n",
    "\n",
    "stripped_iter, stripped_list"
   ]
  },
  {
   "cell_type": "code",
   "execution_count": 4,
   "id": "18f2474c",
   "metadata": {},
   "outputs": [
    {
     "data": {
      "text/plain": [
       "['line 1', 'line 2', '']"
      ]
     },
     "execution_count": 4,
     "metadata": {},
     "output_type": "execute_result"
    }
   ],
   "source": [
    "stripped_list = [line.strip() for line in line_list\n",
    "                 if line != \"\"]\n",
    "stripped_list"
   ]
  },
  {
   "cell_type": "code",
   "execution_count": 6,
   "id": "5f5ea3c1",
   "metadata": {},
   "outputs": [
    {
     "data": {
      "text/plain": [
       "tuple"
      ]
     },
     "execution_count": 6,
     "metadata": {},
     "output_type": "execute_result"
    }
   ],
   "source": [
    "a = 3,5\n",
    "type(a)"
   ]
  },
  {
   "cell_type": "code",
   "execution_count": null,
   "id": "60a995f9",
   "metadata": {},
   "outputs": [],
   "source": []
  }
 ],
 "metadata": {
  "kernelspec": {
   "display_name": "Python 3 (ipykernel)",
   "language": "python",
   "name": "python3"
  },
  "language_info": {
   "codemirror_mode": {
    "name": "ipython",
    "version": 3
   },
   "file_extension": ".py",
   "mimetype": "text/x-python",
   "name": "python",
   "nbconvert_exporter": "python",
   "pygments_lexer": "ipython3",
   "version": "3.9.13"
  }
 },
 "nbformat": 4,
 "nbformat_minor": 5
}
